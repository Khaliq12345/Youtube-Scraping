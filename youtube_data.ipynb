{
 "cells": [
  {
   "cell_type": "code",
   "execution_count": 2,
   "id": "e5ffa53f",
   "metadata": {},
   "outputs": [],
   "source": [
    "from selenium import webdriver\n",
    "import pandas as pd"
   ]
  },
  {
   "cell_type": "code",
   "execution_count": 3,
   "id": "6bddaf2f",
   "metadata": {},
   "outputs": [],
   "source": [
    "path = \"C:\\Program Files (x86)\\chromedriver.exe\""
   ]
  },
  {
   "cell_type": "code",
   "execution_count": 4,
   "id": "082c6475",
   "metadata": {},
   "outputs": [],
   "source": [
    "driver = webdriver.Chrome(path)\n",
    "driver.get('https://www.youtube.com/c/JohnWatsonRooney/videos')"
   ]
  },
  {
   "cell_type": "code",
   "execution_count": 14,
   "id": "cca4da1d",
   "metadata": {},
   "outputs": [],
   "source": [
    "t = []\n",
    "v = []\n",
    "d = []\n",
    "videos = driver.find_elements_by_xpath(\"//ytd-grid-video-renderer[@class='style-scope ytd-grid-renderer']\")\n",
    "for video in videos:\n",
    "    title = video.find_element_by_xpath('.//*[@id=\"video-title\"]').text\n",
    "    try:\n",
    "        t.append(title)\n",
    "    except:\n",
    "        t.append('N/A')\n",
    "    views = video.find_element_by_xpath('.//*[@id=\"metadata-line\"]/span[1]').text\n",
    "    try:\n",
    "        v.append(views)\n",
    "    except:\n",
    "        v.append('N/A')\n",
    "    date = video.find_element_by_xpath('.//*[@id=\"metadata-line\"]/span[2]').text\n",
    "    try:\n",
    "        d.append(date)\n",
    "    except:\n",
    "        d.append('N/A')"
   ]
  },
  {
   "cell_type": "code",
   "execution_count": 15,
   "id": "8d5c0a44",
   "metadata": {},
   "outputs": [
    {
     "data": {
      "text/html": [
       "<div>\n",
       "<style scoped>\n",
       "    .dataframe tbody tr th:only-of-type {\n",
       "        vertical-align: middle;\n",
       "    }\n",
       "\n",
       "    .dataframe tbody tr th {\n",
       "        vertical-align: top;\n",
       "    }\n",
       "\n",
       "    .dataframe thead th {\n",
       "        text-align: right;\n",
       "    }\n",
       "</style>\n",
       "<table border=\"1\" class=\"dataframe\">\n",
       "  <thead>\n",
       "    <tr style=\"text-align: right;\">\n",
       "      <th></th>\n",
       "      <th>Title</th>\n",
       "      <th>Views</th>\n",
       "      <th>Date</th>\n",
       "    </tr>\n",
       "  </thead>\n",
       "  <tbody>\n",
       "    <tr>\n",
       "      <th>0</th>\n",
       "      <td>Live: Chatting Code Stuff &amp; QnA</td>\n",
       "      <td>679 views</td>\n",
       "      <td>Streamed 1 day ago</td>\n",
       "    </tr>\n",
       "    <tr>\n",
       "      <th>1</th>\n",
       "      <td>The Biggest Mistake Beginners Make When Web Sc...</td>\n",
       "      <td>7.9K views</td>\n",
       "      <td>8 days ago</td>\n",
       "    </tr>\n",
       "    <tr>\n",
       "      <th>2</th>\n",
       "      <td>The Python Package I Wish I'd Learned Earlier</td>\n",
       "      <td>6.3K views</td>\n",
       "      <td>2 weeks ago</td>\n",
       "    </tr>\n",
       "    <tr>\n",
       "      <th>3</th>\n",
       "      <td>Rotate User Agents in Scrapy using custom Midd...</td>\n",
       "      <td>1.4K views</td>\n",
       "      <td>3 weeks ago</td>\n",
       "    </tr>\n",
       "    <tr>\n",
       "      <th>4</th>\n",
       "      <td>GO for Beginners - Web Scraping with Golang Tu...</td>\n",
       "      <td>2.9K views</td>\n",
       "      <td>3 weeks ago</td>\n",
       "    </tr>\n",
       "    <tr>\n",
       "      <th>...</th>\n",
       "      <td>...</td>\n",
       "      <td>...</td>\n",
       "      <td>...</td>\n",
       "    </tr>\n",
       "    <tr>\n",
       "      <th>143</th>\n",
       "      <td>Web Scraping: HTML Tables with Python</td>\n",
       "      <td>46K views</td>\n",
       "      <td>2 years ago</td>\n",
       "    </tr>\n",
       "    <tr>\n",
       "      <th>144</th>\n",
       "      <td>5 Tips for Learning PYTHON</td>\n",
       "      <td>657 views</td>\n",
       "      <td>2 years ago</td>\n",
       "    </tr>\n",
       "    <tr>\n",
       "      <th>145</th>\n",
       "      <td>Indexing and Slicing Python Lists for Beginners</td>\n",
       "      <td>755 views</td>\n",
       "      <td>2 years ago</td>\n",
       "    </tr>\n",
       "    <tr>\n",
       "      <th>146</th>\n",
       "      <td>Basic Webscraper : Get info from the web with ...</td>\n",
       "      <td>3.6K views</td>\n",
       "      <td>2 years ago</td>\n",
       "    </tr>\n",
       "    <tr>\n",
       "      <th>147</th>\n",
       "      <td>Simple Python Projects | short projects for be...</td>\n",
       "      <td>1.7K views</td>\n",
       "      <td>2 years ago</td>\n",
       "    </tr>\n",
       "  </tbody>\n",
       "</table>\n",
       "<p>148 rows × 3 columns</p>\n",
       "</div>"
      ],
      "text/plain": [
       "                                                 Title       Views  \\\n",
       "0                      Live: Chatting Code Stuff & QnA   679 views   \n",
       "1    The Biggest Mistake Beginners Make When Web Sc...  7.9K views   \n",
       "2        The Python Package I Wish I'd Learned Earlier  6.3K views   \n",
       "3    Rotate User Agents in Scrapy using custom Midd...  1.4K views   \n",
       "4    GO for Beginners - Web Scraping with Golang Tu...  2.9K views   \n",
       "..                                                 ...         ...   \n",
       "143              Web Scraping: HTML Tables with Python   46K views   \n",
       "144                         5 Tips for Learning PYTHON   657 views   \n",
       "145    Indexing and Slicing Python Lists for Beginners   755 views   \n",
       "146  Basic Webscraper : Get info from the web with ...  3.6K views   \n",
       "147  Simple Python Projects | short projects for be...  1.7K views   \n",
       "\n",
       "                   Date  \n",
       "0    Streamed 1 day ago  \n",
       "1            8 days ago  \n",
       "2           2 weeks ago  \n",
       "3           3 weeks ago  \n",
       "4           3 weeks ago  \n",
       "..                  ...  \n",
       "143         2 years ago  \n",
       "144         2 years ago  \n",
       "145         2 years ago  \n",
       "146         2 years ago  \n",
       "147         2 years ago  \n",
       "\n",
       "[148 rows x 3 columns]"
      ]
     },
     "execution_count": 15,
     "metadata": {},
     "output_type": "execute_result"
    }
   ],
   "source": [
    "df = pd.DataFrame({'Title':t,'Views':v,'Date':d})\n",
    "df"
   ]
  },
  {
   "cell_type": "code",
   "execution_count": 16,
   "id": "39a1d588",
   "metadata": {},
   "outputs": [
    {
     "data": {
      "text/plain": [
       "Title    0\n",
       "Views    0\n",
       "Date     0\n",
       "dtype: int64"
      ]
     },
     "execution_count": 16,
     "metadata": {},
     "output_type": "execute_result"
    }
   ],
   "source": [
    "df.isnull().sum()"
   ]
  },
  {
   "cell_type": "code",
   "execution_count": 19,
   "id": "1fa24c8d",
   "metadata": {},
   "outputs": [],
   "source": [
    "df.to_csv('youtube_data.csv')"
   ]
  },
  {
   "cell_type": "code",
   "execution_count": null,
   "id": "0c43a963",
   "metadata": {},
   "outputs": [],
   "source": []
  },
  {
   "cell_type": "code",
   "execution_count": null,
   "id": "1515050f",
   "metadata": {},
   "outputs": [],
   "source": []
  },
  {
   "cell_type": "code",
   "execution_count": null,
   "id": "e69cab5b",
   "metadata": {},
   "outputs": [],
   "source": []
  },
  {
   "cell_type": "code",
   "execution_count": null,
   "id": "fa91f10e",
   "metadata": {},
   "outputs": [],
   "source": []
  },
  {
   "cell_type": "code",
   "execution_count": null,
   "id": "83204258",
   "metadata": {},
   "outputs": [],
   "source": []
  },
  {
   "cell_type": "code",
   "execution_count": null,
   "id": "cdc88eb1",
   "metadata": {},
   "outputs": [],
   "source": []
  },
  {
   "cell_type": "code",
   "execution_count": null,
   "id": "b31ddc95",
   "metadata": {},
   "outputs": [],
   "source": []
  },
  {
   "cell_type": "code",
   "execution_count": null,
   "id": "ef81c5f6",
   "metadata": {},
   "outputs": [],
   "source": []
  },
  {
   "cell_type": "code",
   "execution_count": null,
   "id": "edf6ceba",
   "metadata": {},
   "outputs": [],
   "source": []
  },
  {
   "cell_type": "code",
   "execution_count": null,
   "id": "fe431e23",
   "metadata": {},
   "outputs": [],
   "source": []
  },
  {
   "cell_type": "code",
   "execution_count": null,
   "id": "085cf697",
   "metadata": {},
   "outputs": [],
   "source": []
  },
  {
   "cell_type": "code",
   "execution_count": null,
   "id": "2583d67e",
   "metadata": {},
   "outputs": [],
   "source": []
  }
 ],
 "metadata": {
  "kernelspec": {
   "display_name": "Python 3 (ipykernel)",
   "language": "python",
   "name": "python3"
  },
  "language_info": {
   "codemirror_mode": {
    "name": "ipython",
    "version": 3
   },
   "file_extension": ".py",
   "mimetype": "text/x-python",
   "name": "python",
   "nbconvert_exporter": "python",
   "pygments_lexer": "ipython3",
   "version": "3.9.7"
  }
 },
 "nbformat": 4,
 "nbformat_minor": 5
}
